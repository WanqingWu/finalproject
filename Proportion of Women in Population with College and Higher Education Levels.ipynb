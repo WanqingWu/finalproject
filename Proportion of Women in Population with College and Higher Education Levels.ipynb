{
 "cells": [
  {
   "cell_type": "code",
   "execution_count": 1,
   "id": "41216b4c",
   "metadata": {},
   "outputs": [],
   "source": [
    "# This is female_college / (female_college + male_college)"
   ]
  },
  {
   "cell_type": "code",
   "execution_count": 8,
   "id": "fdfd8019",
   "metadata": {},
   "outputs": [],
   "source": [
    "import matplotlib.pyplot as plt\n",
    "import numpy as np\n",
    "import pandas as pd\n",
    "from sklearn import linear_model"
   ]
  },
  {
   "cell_type": "code",
   "execution_count": 9,
   "id": "2d5e0bde",
   "metadata": {},
   "outputs": [],
   "source": [
    "# Load the dataset\n",
    "data_1 = pd.read_csv(\"linear_subtotal.csv\")\n",
    "# Load the now dataset\n",
    "data_2 = pd.read_csv(\"linear_subtotal_now.csv\")"
   ]
  },
  {
   "cell_type": "code",
   "execution_count": 10,
   "id": "4e54e71a",
   "metadata": {},
   "outputs": [],
   "source": [
    "year_X_1 = data_1.iloc[:, :1]\n",
    "female_college_subtotal_y_1 = data_1.iloc[:,1:]"
   ]
  },
  {
   "cell_type": "code",
   "execution_count": 11,
   "id": "22ab6874",
   "metadata": {},
   "outputs": [],
   "source": [
    "year_X_2 = data_2.iloc[:, :1]\n",
    "female_college_subtotal_y_2 = data_2.iloc[:,1:]"
   ]
  },
  {
   "cell_type": "code",
   "execution_count": 12,
   "id": "91f14aa6",
   "metadata": {},
   "outputs": [
    {
     "data": {
      "text/plain": [
       "LinearRegression()"
      ]
     },
     "execution_count": 12,
     "metadata": {},
     "output_type": "execute_result"
    }
   ],
   "source": [
    "# Create linear regression object\n",
    "regr = linear_model.LinearRegression()\n",
    "\n",
    "# Train the model using the training sets\n",
    "regr.fit(year_X_1, female_college_subtotal_y_1)"
   ]
  },
  {
   "cell_type": "code",
   "execution_count": 13,
   "id": "b509d95c",
   "metadata": {},
   "outputs": [
    {
     "name": "stdout",
     "output_type": "stream",
     "text": [
      "Intercept: \n",
      " [-14.33423872]\n",
      "Coefficients: \n",
      " [[0.00735752]]\n"
     ]
    },
    {
     "name": "stderr",
     "output_type": "stream",
     "text": [
      "/Users/eunjoo/opt/anaconda3/lib/python3.9/site-packages/sklearn/base.py:450: UserWarning: X does not have valid feature names, but LinearRegression was fitted with feature names\n",
      "  warnings.warn(\n"
     ]
    },
    {
     "data": {
      "text/plain": [
       "array([[0.44701532],\n",
       "       [0.45437284],\n",
       "       [0.46173036],\n",
       "       [0.46908788],\n",
       "       [0.4764454 ],\n",
       "       [0.48380292],\n",
       "       [0.49116043],\n",
       "       [0.49851795],\n",
       "       [0.50587547],\n",
       "       [0.51323299],\n",
       "       [0.52059051]])"
      ]
     },
     "execution_count": 13,
     "metadata": {},
     "output_type": "execute_result"
    }
   ],
   "source": [
    "# The coefficients\n",
    "print(\"Intercept: \\n\", regr.intercept_)\n",
    "print(\"Coefficients: \\n\", regr.coef_)\n",
    "\n",
    "y_pred = regr.predict(year_X_1)\n",
    "\n",
    "pred = regr.predict(pd.DataFrame([2009, 2010, 2011, 2012, 2013, 2014, 2015, 2016, 2017, 2018, 2019]))\n",
    "pred"
   ]
  },
  {
   "cell_type": "code",
   "execution_count": 14,
   "id": "22aafae1",
   "metadata": {},
   "outputs": [
    {
     "data": {
      "image/png": "[encoded data removed]",
      "text/plain": [
       "<Figure size 432x288 with 1 Axes>"
      ]
     },
     "metadata": {
      "needs_background": "light"
     },
     "output_type": "display_data"
    }
   ],
   "source": [
    "# Plot outputs\n",
    "# plot the original data points\n",
    "plt.scatter(year_X_1, female_college_subtotal_y_1, color=\"black\")\n",
    "\n",
    "# Plot the predicted data points\n",
    "year_X_real = pd.DataFrame([2009, 2010, 2011, 2012, 2013, 2014, 2015, 2016, 2017, 2018, 2019])\n",
    "plt.scatter(year_X_real, pred, color=\"blue\")\n",
    "\n",
    "# Plot the real data points after 2009\n",
    "plt.scatter(year_X_2, female_college_subtotal_y_2, color=\"black\")\n",
    "\n",
    "# plot a line of the predictions from linear regression\n",
    "plt.plot(year_X_1['Year'], y_pred, color=\"blue\", linewidth=3)\n",
    "\n",
    "# Set the xticks\n",
    "plt.xticks(np.arange(1999, 2020, step=1))\n",
    "plt.xticks(rotation=45, fontsize=10)\n",
    "\n",
    "plt.title(\"Proportion of women in the population with college and higher education levels\")\n",
    "plt.show()"
   ]
  }
 ],
 "metadata": {
  "kernelspec": {
   "display_name": "Python 3 (ipykernel)",
   "language": "python",
   "name": "python3"
  },
  "language_info": {
   "codemirror_mode": {
    "name": "ipython",
    "version": 3
   },
   "file_extension": ".py",
   "mimetype": "text/x-python",
   "name": "python",
   "nbconvert_exporter": "python",
   "pygments_lexer": "ipython3",
   "version": "3.9.12"
  }
 },
 "nbformat": 4,
 "nbformat_minor": 5
}
