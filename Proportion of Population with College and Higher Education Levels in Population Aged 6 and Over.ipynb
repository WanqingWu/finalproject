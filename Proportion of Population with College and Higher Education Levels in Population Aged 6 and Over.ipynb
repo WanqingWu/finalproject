{
 "cells": [
  {
   "cell_type": "code",
   "execution_count": 1,
   "id": "bf12b6bf",
   "metadata": {},
   "outputs": [],
   "source": [
    "# This is population_college / population_aged_6_and_over"
   ]
  },
  {
   "cell_type": "code",
   "execution_count": 1,
   "id": "40abc83a",
   "metadata": {},
   "outputs": [],
   "source": [
    "import matplotlib.pyplot as plt\n",
    "import numpy as np\n",
    "import pandas as pd\n",
    "from sklearn import linear_model"
   ]
  },
  {
   "cell_type": "code",
   "execution_count": 2,
   "id": "c784d763",
   "metadata": {},
   "outputs": [],
   "source": [
    "# Load the dataset\n",
    "data_1 = pd.read_csv(\"overall_college_proportion_2009.csv\")\n",
    "# Load the now dataset\n",
    "data_2 = pd.read_csv(\"overall_college_proportion_now.csv\")"
   ]
  },
  {
   "cell_type": "code",
   "execution_count": 3,
   "id": "ec3fd82d",
   "metadata": {},
   "outputs": [],
   "source": [
    "year_X_1 = data_1.iloc[:, :1]\n",
    "college_y_1 = data_1.iloc[:,1:]"
   ]
  },
  {
   "cell_type": "code",
   "execution_count": 4,
   "id": "cae12694",
   "metadata": {},
   "outputs": [],
   "source": [
    "year_X_2 = data_2.iloc[:, :1]\n",
    "college_y_2 = data_2.iloc[:,1:]"
   ]
  },
  {
   "cell_type": "code",
   "execution_count": 5,
   "id": "e49826a4",
   "metadata": {},
   "outputs": [
    {
     "data": {
      "text/plain": [
       "LinearRegression()"
      ]
     },
     "execution_count": 5,
     "metadata": {},
     "output_type": "execute_result"
    }
   ],
   "source": [
    "# Create linear regression object\n",
    "regr = linear_model.LinearRegression()\n",
    "\n",
    "# Train the model using the training sets\n",
    "regr.fit(year_X_1, college_y_1)"
   ]
  },
  {
   "cell_type": "code",
   "execution_count": 6,
   "id": "439d30c9",
   "metadata": {},
   "outputs": [
    {
     "name": "stdout",
     "output_type": "stream",
     "text": [
      "Intercept: \n",
      " [-8.22899061]\n",
      "Coefficients: \n",
      " [[0.00413067]]\n"
     ]
    },
    {
     "name": "stderr",
     "output_type": "stream",
     "text": [
      "/Users/eunjoo/opt/anaconda3/lib/python3.9/site-packages/sklearn/base.py:450: UserWarning: X does not have valid feature names, but LinearRegression was fitted with feature names\n",
      "  warnings.warn(\n"
     ]
    },
    {
     "data": {
      "text/plain": [
       "array([[0.06953149],\n",
       "       [0.07366216],\n",
       "       [0.07779283],\n",
       "       [0.08192351],\n",
       "       [0.08605418],\n",
       "       [0.09018485],\n",
       "       [0.09431552],\n",
       "       [0.0984462 ],\n",
       "       [0.10257687],\n",
       "       [0.10670754],\n",
       "       [0.11083822]])"
      ]
     },
     "execution_count": 6,
     "metadata": {},
     "output_type": "execute_result"
    }
   ],
   "source": [
    "# The coefficients\n",
    "print(\"Intercept: \\n\", regr.intercept_)\n",
    "print(\"Coefficients: \\n\", regr.coef_)\n",
    "\n",
    "y_pred = regr.predict(year_X_1)\n",
    "\n",
    "pred = regr.predict(pd.DataFrame([2009, 2010, 2011, 2012, 2013, 2014, 2015, 2016, 2017, 2018, 2019]))\n",
    "pred"
   ]
  },
  {
   "cell_type": "code",
   "execution_count": 7,
   "id": "f2343acb",
   "metadata": {},
   "outputs": [
    {
     "data": {
      "image/png": "[encoded data removed]",
      "text/plain": [
       "<Figure size 432x288 with 1 Axes>"
      ]
     },
     "metadata": {
      "needs_background": "light"
     },
     "output_type": "display_data"
    }
   ],
   "source": [
    "# Plot outputs\n",
    "# plot the original data points\n",
    "plt.scatter(year_X_1, college_y_1, color=\"black\")\n",
    "\n",
    "# Plot the predicted data points\n",
    "year_X_real = pd.DataFrame([2009, 2010, 2011, 2012, 2013, 2014, 2015, 2016, 2017, 2018, 2019])\n",
    "plt.scatter(year_X_real, pred, color=\"blue\")\n",
    "\n",
    "# Plot the real data points after 2009\n",
    "plt.scatter(year_X_2, college_y_2, color=\"black\")\n",
    "\n",
    "# plot a line of the predictions from linear regression\n",
    "plt.plot(year_X_1['Year'], y_pred, color=\"blue\", linewidth=3)\n",
    "\n",
    "# Set the xticks\n",
    "plt.xticks(np.arange(1999, 2020, step=1))\n",
    "plt.xticks(rotation=45, fontsize=10)\n",
    "\n",
    "plt.title(\"Proportion of the population with college and higher education levels in the population aged 6 and over\")\n",
    "plt.show()"
   ]
  }
 ],
 "metadata": {
  "kernelspec": {
   "display_name": "Python 3 (ipykernel)",
   "language": "python",
   "name": "python3"
  },
  "language_info": {
   "codemirror_mode": {
    "name": "ipython",
    "version": 3
   },
   "file_extension": ".py",
   "mimetype": "text/x-python",
   "name": "python",
   "nbconvert_exporter": "python",
   "pygments_lexer": "ipython3",
   "version": "3.9.12"
  }
 },
 "nbformat": 4,
 "nbformat_minor": 5
}
