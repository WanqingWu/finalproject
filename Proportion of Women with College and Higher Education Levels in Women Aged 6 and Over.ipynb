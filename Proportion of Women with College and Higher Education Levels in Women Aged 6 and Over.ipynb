{
 "cells": [
  {
   "cell_type": "code",
   "execution_count": 28,
   "id": "ef916e92",
   "metadata": {},
   "outputs": [],
   "source": [
    "# This is female_college / female_aged_6_and_over"
   ]
  },
  {
   "cell_type": "code",
   "execution_count": 39,
   "id": "40abc83a",
   "metadata": {},
   "outputs": [],
   "source": [
    "import matplotlib.pyplot as plt\n",
    "import numpy as np\n",
    "import pandas as pd\n",
    "from sklearn import linear_model"
   ]
  },
  {
   "cell_type": "code",
   "execution_count": 40,
   "id": "c784d763",
   "metadata": {},
   "outputs": [],
   "source": [
    "# Load the dataset\n",
    "data_1 = pd.read_csv(\"level_total_female_2009.csv\")\n",
    "# Load the now dataset\n",
    "data_2 = pd.read_csv(\"level_total_female_now.csv\")"
   ]
  },
  {
   "cell_type": "code",
   "execution_count": 41,
   "id": "ec3fd82d",
   "metadata": {},
   "outputs": [],
   "source": [
    "year_X_1 = data_1.iloc[:, :1]\n",
    "female_college_total_y_1 = data_1.iloc[:,1:]"
   ]
  },
  {
   "cell_type": "code",
   "execution_count": 42,
   "id": "cae12694",
   "metadata": {},
   "outputs": [],
   "source": [
    "year_X_2 = data_2.iloc[:, :1]\n",
    "female_college_total_y_2 = data_2.iloc[:,1:]\n",
    "year_X_3 = data_2.iloc[:, :1]\n",
    "female_college_total_y_3 = data_2.iloc[:,1:]"
   ]
  },
  {
   "cell_type": "code",
   "execution_count": 43,
   "id": "e49826a4",
   "metadata": {},
   "outputs": [
    {
     "data": {
      "text/plain": [
       "LinearRegression()"
      ]
     },
     "execution_count": 43,
     "metadata": {},
     "output_type": "execute_result"
    }
   ],
   "source": [
    "# Create linear regression object\n",
    "regr_1 = linear_model.LinearRegression()\n",
    "\n",
    "# Train the model using the training sets\n",
    "regr_1.fit(year_X_1, female_college_total_y_1)"
   ]
  },
  {
   "cell_type": "code",
   "execution_count": 44,
   "id": "df2c3a33",
   "metadata": {},
   "outputs": [
    {
     "data": {
      "text/plain": [
       "LinearRegression()"
      ]
     },
     "execution_count": 44,
     "metadata": {},
     "output_type": "execute_result"
    }
   ],
   "source": [
    "# Create linear regression object\n",
    "regr_2 = linear_model.LinearRegression()\n",
    "\n",
    "# Train the model using the training sets\n",
    "regr_2.fit(year_X_3, female_college_total_y_3)"
   ]
  },
  {
   "cell_type": "code",
   "execution_count": 45,
   "id": "439d30c9",
   "metadata": {},
   "outputs": [
    {
     "name": "stdout",
     "output_type": "stream",
     "text": [
      "Intercept_1: \n",
      " [-8.12449768]\n",
      "Coefficients_1: \n",
      " [[0.00407479]]\n",
      "Intercept_2: \n",
      " [-15.16568884]\n",
      "Coefficients_2: \n",
      " [[0.00758237]]\n"
     ]
    },
    {
     "name": "stderr",
     "output_type": "stream",
     "text": [
      "/Users/eunjoo/opt/anaconda3/lib/python3.9/site-packages/sklearn/base.py:450: UserWarning: X does not have valid feature names, but LinearRegression was fitted with feature names\n",
      "  warnings.warn(\n"
     ]
    }
   ],
   "source": [
    "# The coefficients\n",
    "print(\"Intercept_1: \\n\", regr_1.intercept_)\n",
    "print(\"Coefficients_1: \\n\", regr_1.coef_)\n",
    "\n",
    "print(\"Intercept_2: \\n\", regr_2.intercept_)\n",
    "print(\"Coefficients_2: \\n\", regr_2.coef_)\n",
    "\n",
    "y_pred_1 = regr_1.predict(year_X_1)\n",
    "y_pred_2 = regr_2.predict(year_X_3)\n",
    "\n",
    "pred = regr_1.predict(pd.DataFrame([2009, 2010, 2011, 2012, 2013, 2014, 2015, 2016, 2017, 2018, 2019]))"
   ]
  },
  {
   "cell_type": "code",
   "execution_count": 46,
   "id": "f2343acb",
   "metadata": {
    "scrolled": true
   },
   "outputs": [
    {
     "data": {
      "image/png": "[encoded data removed]",
      "text/plain": [
       "<Figure size 432x288 with 1 Axes>"
      ]
     },
     "metadata": {
      "needs_background": "light"
     },
     "output_type": "display_data"
    }
   ],
   "source": [
    "fig = plt.figure()\n",
    "ax1 = fig.add_subplot(111)\n",
    "# Plot outputs\n",
    "# plot the original data points\n",
    "ax1.scatter(year_X_1, female_college_total_y_1, color=\"black\")\n",
    "\n",
    "# Plot the predicted data points\n",
    "year_X_real = pd.DataFrame([2009, 2010, 2011, 2012, 2013, 2014, 2015, 2016, 2017, 2018, 2019])\n",
    "ax1.scatter(year_X_real, pred, color=\"blue\")\n",
    "\n",
    "# Plot the real data points after 2009\n",
    "ax1.scatter(year_X_2, female_college_total_y_2, color=\"black\")\n",
    "\n",
    "# plot a line of the predictions from linear regression\n",
    "ax1.plot(year_X_1['Year'], y_pred_1, color=\"blue\", linewidth=2.5)\n",
    "ax1.plot(year_X_3['Year'], y_pred_2, color=\"red\", linewidth=2.5)\n",
    "# Set the xticks\n",
    "plt.xticks(np.arange(1999, 2020, step=1))\n",
    "plt.xticks(rotation=45, fontsize=10)\n",
    "\n",
    "plt.title(\"Proportion of women with college and higher education levels in women aged 6 and over\")\n",
    "plt.show()"
   ]
  }
 ],
 "metadata": {
  "kernelspec": {
   "display_name": "Python 3 (ipykernel)",
   "language": "python",
   "name": "python3"
  },
  "language_info": {
   "codemirror_mode": {
    "name": "ipython",
    "version": 3
   },
   "file_extension": ".py",
   "mimetype": "text/x-python",
   "name": "python",
   "nbconvert_exporter": "python",
   "pygments_lexer": "ipython3",
   "version": "3.9.12"
  }
 },
 "nbformat": 4,
 "nbformat_minor": 5
}
